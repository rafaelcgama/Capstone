{
 "metadata": {
  "language_info": {
   "codemirror_mode": {
    "name": "ipython",
    "version": 3
   },
   "file_extension": ".py",
   "mimetype": "text/x-python",
   "name": "python",
   "nbconvert_exporter": "python",
   "pygments_lexer": "ipython3",
   "version": "3.7.7-final"
  },
  "orig_nbformat": 2,
  "kernelspec": {
   "name": "python37764bitcapstoneconda29492f3ea20142969935536b8aa85c77",
   "display_name": "Python 3.7.7 64-bit ('Capstone': conda)"
  }
 },
 "nbformat": 4,
 "nbformat_minor": 2,
 "cells": [
  {
   "cell_type": "code",
   "execution_count": 56,
   "metadata": {},
   "outputs": [],
   "source": [
    "import pandas as pd # library for data analsysis\n",
    "import requests # library to handle requests\n",
    "from lxml import html # library to collect html data"
   ]
  },
  {
   "cell_type": "markdown",
   "metadata": {
    "tags": []
   },
   "source": [
    "## Data Collection"
   ]
  },
  {
   "cell_type": "code",
   "execution_count": 12,
   "metadata": {},
   "outputs": [],
   "source": [
    "url_wiki = \"https://en.wikipedia.org/wiki/List_of_postal_codes_of_Canada:_M\"\n",
    "\n",
    "session = requests.session()\n",
    "session.verify = False\n",
    "\n",
    "resp = session.get(url_wiki)\n",
    "root = html.fromstring(resp.content)"
   ]
  },
  {
   "cell_type": "code",
   "execution_count": 45,
   "metadata": {
    "tags": []
   },
   "outputs": [],
   "source": [
    "def extract_data(root):\n",
    "    row_combox = root.xpath('.//table[contains(@class, \"wikitable\")]/tbody/tr')\n",
    "    cols = [line.text.strip().replace(\" \", \"_\").lower() for line in list(row_combox[0])]\n",
    "\n",
    "    toronto_data = []\n",
    "    for row in row_combox[1:]:\n",
    "        row_dict = {}\n",
    "        for col in zip(cols, list(row)):\n",
    "            row_dict[col[0]] = col[1].text.strip() if not col[1].text.strip() == 'Not assigned' else None\n",
    "        \n",
    "        toronto_data.append(row_dict)\n",
    "    \n",
    "    return toronto_data"
   ]
  },
  {
   "cell_type": "code",
   "execution_count": 58,
   "metadata": {},
   "outputs": [
    {
     "output_type": "execute_result",
     "data": {
      "text/plain": "  postal_code           borough              neighbourhood\n0         M1A              None                       None\n1         M2A              None                       None\n2         M3A        North York                  Parkwoods\n3         M4A        North York           Victoria Village\n4         M5A  Downtown Toronto  Regent Park, Harbourfront",
      "text/html": "<div>\n<style scoped>\n    .dataframe tbody tr th:only-of-type {\n        vertical-align: middle;\n    }\n\n    .dataframe tbody tr th {\n        vertical-align: top;\n    }\n\n    .dataframe thead th {\n        text-align: right;\n    }\n</style>\n<table border=\"1\" class=\"dataframe\">\n  <thead>\n    <tr style=\"text-align: right;\">\n      <th></th>\n      <th>postal_code</th>\n      <th>borough</th>\n      <th>neighbourhood</th>\n    </tr>\n  </thead>\n  <tbody>\n    <tr>\n      <th>0</th>\n      <td>M1A</td>\n      <td>None</td>\n      <td>None</td>\n    </tr>\n    <tr>\n      <th>1</th>\n      <td>M2A</td>\n      <td>None</td>\n      <td>None</td>\n    </tr>\n    <tr>\n      <th>2</th>\n      <td>M3A</td>\n      <td>North York</td>\n      <td>Parkwoods</td>\n    </tr>\n    <tr>\n      <th>3</th>\n      <td>M4A</td>\n      <td>North York</td>\n      <td>Victoria Village</td>\n    </tr>\n    <tr>\n      <th>4</th>\n      <td>M5A</td>\n      <td>Downtown Toronto</td>\n      <td>Regent Park, Harbourfront</td>\n    </tr>\n  </tbody>\n</table>\n</div>"
     },
     "metadata": {},
     "execution_count": 58
    }
   ],
   "source": [
    "toronto_data = extract_data(root)\n",
    "toronto_data = pd.DataFrame(toronto_data)\n",
    "toronto_data.head()"
   ]
  },
  {
   "cell_type": "markdown",
   "metadata": {
    "tags": []
   },
   "source": [
    "## Data Wrangling "
   ]
  },
  {
   "cell_type": "code",
   "execution_count": 65,
   "metadata": {
    "tags": []
   },
   "outputs": [
    {
     "output_type": "stream",
     "name": "stdout",
     "text": "There are 77 rows with empty boroughs\n"
    }
   ],
   "source": [
    "# Check for NaN\n",
    "nan_borough = toronto_data['borough'].isnull().sum()\n",
    "print(\"There are 77 rows with empty boroughs.\")"
   ]
  },
  {
   "cell_type": "code",
   "execution_count": 66,
   "metadata": {},
   "outputs": [
    {
     "output_type": "execute_result",
     "data": {
      "text/plain": "postal_code      0\nborough          0\nneighbourhood    0\ndtype: int64"
     },
     "metadata": {},
     "execution_count": 66
    }
   ],
   "source": [
    "# Remove all rows with null borough \n",
    "toronto_data = toronto_data.loc[~toronto_data['borough'].isnull()]\n",
    "toronto_data.isnull().sum()"
   ]
  },
  {
   "cell_type": "code",
   "execution_count": 68,
   "metadata": {
    "tags": []
   },
   "outputs": [
    {
     "output_type": "stream",
     "name": "stdout",
     "text": "<class 'pandas.core.frame.DataFrame'>\nInt64Index: 103 entries, 2 to 178\nData columns (total 3 columns):\n #   Column         Non-Null Count  Dtype \n---  ------         --------------  ----- \n 0   postal_code    103 non-null    object\n 1   borough        103 non-null    object\n 2   neighbourhood  103 non-null    object\ndtypes: object(3)\nmemory usage: 8.2+ KB\n"
    }
   ],
   "source": [
    "# Check for dataframe data types\n",
    "toronto_data.info()"
   ]
  },
  {
   "cell_type": "code",
   "execution_count": 69,
   "metadata": {
    "tags": []
   },
   "outputs": [
    {
     "output_type": "stream",
     "name": "stdout",
     "text": "There are 103 in the Toronto dataset\n"
    }
   ],
   "source": [
    "num_rows = toronto_data.shape[0]\n",
    "print(f'There are {num_rows} rows in the Toronto dataset.')"
   ]
  }
 ]
}